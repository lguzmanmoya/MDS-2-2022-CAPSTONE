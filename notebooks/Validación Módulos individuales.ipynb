{
 "cells": [
  {
   "cell_type": "markdown",
   "metadata": {},
   "source": [
    "# Modelo detección de fraude biométrico en proceso de onboarding digital"
   ]
  },
  {
   "cell_type": "markdown",
   "metadata": {},
   "source": [
    "## Cuaderno de cálculo de indicadores cruzados con modelos individuales"
   ]
  },
  {
   "cell_type": "markdown",
   "metadata": {},
   "source": [
    "### Descripción:\n",
    "Este cuaderno permite probar la capacidad cruzada de los modelos individuales, los resultados se usan para determinar el orden óptimo de ejecución"
   ]
  },
  {
   "cell_type": "markdown",
   "metadata": {},
   "source": [
    "#### Dependencias "
   ]
  },
  {
   "cell_type": "code",
   "execution_count": 1,
   "metadata": {},
   "outputs": [],
   "source": [
    "from PIL import Image\n",
    "\n",
    "import sys\n",
    "sys.path.append('../src/')  \n",
    "\n",
    "from CLASE_0 import FaceVerifier\n",
    "from CLASE_I import AgeChecker\n",
    "from CLASE_II_IV import Fake_II_IV_detector\n",
    "from CLASE_III_A  import Fake_III_A_detector\n",
    "from CLASE_III_B  import Fake_III_B_detector\n",
    "\n",
    "\n",
    "import matplotlib.pyplot as plt\n",
    "\n",
    "import os\n",
    "from PIL import Image\n",
    "from sklearn.metrics import accuracy_score, f1_score, confusion_matrix\n",
    "from tqdm import tqdm\n",
    "\n",
    "import numpy as np\n",
    "from gurobipy import Model, GRB\n",
    "\n",
    "import warnings\n",
    "warnings.filterwarnings('ignore')"
   ]
  },
  {
   "cell_type": "markdown",
   "metadata": {},
   "source": [
    "#### Rutas a modelos"
   ]
  },
  {
   "cell_type": "code",
   "execution_count": 2,
   "metadata": {},
   "outputs": [],
   "source": [
    "paths = {\n",
    "    'predictor_path'        : \"../modelos/shape_predictor_68_face_landmarks.dat\",\n",
    "    'face_rec_model_path'   : \"../modelos/dlib_face_recognition_resnet_model_v1.dat\",\n",
    "    'model_weights_path'    : \"../modelos/weights.pt\",\n",
    "    \n",
    "    'model_II_IV_path'      : \"../modelos/CLASE_II_IV_Random_forest.joblib\",\n",
    "    'model_III_A_path'      : \"../modelos/CLASE_III_A_CNN.h5\",\n",
    "    'model_III_B_path'      : \"../modelos/CLASE_III_B_CNN.h5\",\n",
    "\n",
    "\n",
    "\n",
    "    'imagenes_ID'           :\"../data/train/base_15k/ID/ID\",\n",
    "    'imagenes_VAL'          :\"../data/train/base_15k/VAL/VAL\",\n",
    "\n",
    "    'imagenes_ID_I_False'   :\"../data/train/CLASE I, EDAD/ID_Adultos\",    \n",
    "    'imagenes_ID_I_True'    :\"../data/train/CLASE I, EDAD/ID_Menores_RevCM\", \n",
    "\n",
    "    'imagenes_ID_II_False'  :\"../data/train/CLASE II y IV, FAKE_COLOR/ID_REAL/ID\",    \n",
    "    'imagenes_ID_II_True'   :\"../data/train/CLASE II y IV, FAKE_COLOR/ID_FAKE_II/ID\", \n",
    "\n",
    "    'imagenes_ID_IV_False'  :\"../data/train/CLASE II y IV, FAKE_COLOR/ID_REAL/ID\",    \n",
    "    'imagenes_ID_IV_True'   :\"../data/train/CLASE II y IV, FAKE_COLOR/ID_FAKE_IV/ID_A\", \n",
    "\n",
    "\n",
    "    'imagenes_ID_III_A_False':\"../data/train/CLASE III, FAKE_BW/ID_REAL/ID\", \n",
    "    'imagenes_ID_III_B_False':\"../data/train/CLASE III, FAKE_BW/ID_REAL/ID\", \n",
    "\n",
    "    'imagenes_ID_III_A_True':\"../data/train/CLASE III, FAKE_BW/ID_FAKE_III/ID_A\",\n",
    "    'imagenes_ID_III_B_True':\"../data/train/CLASE III, FAKE_BW/ID_FAKE_III/ID_B\",  \n",
    "\n",
    "\n",
    "\n",
    "\n",
    "\n",
    "}"
   ]
  },
  {
   "cell_type": "markdown",
   "metadata": {},
   "source": [
    "#### Parámetros para modelos"
   ]
  },
  {
   "cell_type": "code",
   "execution_count": 3,
   "metadata": {},
   "outputs": [],
   "source": [
    "#Parámetro CASO_0\n",
    "threshold_identidad = 0.65\n",
    "#Parámetro CASO_1\n",
    "threshold_edad = 21\n"
   ]
  },
  {
   "cell_type": "markdown",
   "metadata": {},
   "source": [
    "#### Creación instancias modelos individuales"
   ]
  },
  {
   "cell_type": "code",
   "execution_count": 4,
   "metadata": {},
   "outputs": [
    {
     "name": "stdout",
     "output_type": "stream",
     "text": [
      "Weights loaded successfully from path: ../modelos/weights.pt\n",
      "====================================================\n"
     ]
    }
   ],
   "source": [
    "Modelo_CLASE_0 = FaceVerifier(paths['predictor_path'], paths['face_rec_model_path'], threshold_identidad)\n",
    "Modelo_CLASE_I = AgeChecker(paths['model_weights_path'], threshold_edad)\n",
    "Modelo_CLASE_II_IV = Fake_II_IV_detector(paths['model_II_IV_path'])\n",
    "Modelo_CLASE_III_A = Fake_III_A_detector(model_path=paths['model_III_A_path'], predictor_path=paths['predictor_path'])\n",
    "Modelo_CLASE_III_B = Fake_III_B_detector(model_path=paths['model_III_B_path'], predictor_path=paths['predictor_path'])\n"
   ]
  },
  {
   "cell_type": "code",
   "execution_count": 5,
   "metadata": {},
   "outputs": [],
   "source": [
    "def cargar_imagenes(carpeta, n=1000):\n",
    "    imagenes = []\n",
    "    for i in range(1, n + 1):\n",
    "        imagen_path = os.path.join(f'{carpeta}_{i}.png')  \n",
    "        imagenes.append(Image.open(imagen_path))\n",
    "    return imagenes\n",
    "\n",
    "def evaluar_modelo(imagenes_id, imagenes_val):\n",
    "    y_verdadero = []\n",
    "    y_predicho = []\n",
    "\n",
    "\n",
    "    for i in tqdm(range(len(imagenes_id)), desc='Evaluando pares que deben dar False'):\n",
    "        resultado = Modelo_CLASE_0.verify_faces(imagenes_id[i], imagenes_val[i])\n",
    "        y_verdadero.append(False)\n",
    "        y_predicho.append(resultado)\n",
    "\n",
    "    for i in tqdm(range(len(imagenes_id)), desc='Evaluando pares que deben dar True'):\n",
    "        j = (i + 1) % len(imagenes_id)  \n",
    "        resultado = Modelo_CLASE_0.verify_faces(imagenes_id[i], imagenes_val[j])\n",
    "        y_verdadero.append(True)\n",
    "        y_predicho.append(resultado)\n",
    "\n",
    "\n",
    "    accuracy = accuracy_score(y_verdadero, y_predicho)\n",
    "    f1 = f1_score(y_verdadero, y_predicho)\n",
    "    tn, fp, fn, tp = confusion_matrix(y_verdadero, y_predicho).ravel()\n",
    "    error_tipo_i = fp / (fp + tn)  \n",
    "    error_tipo_ii = fn / (fn + tp)  \n",
    "\n",
    "    return accuracy, f1, error_tipo_i, error_tipo_ii"
   ]
  },
  {
   "cell_type": "code",
   "execution_count": 6,
   "metadata": {},
   "outputs": [],
   "source": [
    "def evaluar_modelo_simple(carpeta_positivos, carpeta_negativos, modelo):\n",
    "\n",
    "    def cargar_imagenes(carpeta, maximo=1000):\n",
    "        imagenes = []\n",
    "        archivos = os.listdir(carpeta)\n",
    "        for filename in archivos[:maximo]:  \n",
    "            if filename.endswith('.png'):\n",
    "                imagen_path = os.path.join(carpeta, filename)\n",
    "                imagenes.append(Image.open(imagen_path))\n",
    "        return imagenes\n",
    "\n",
    "    positivas = cargar_imagenes(carpeta_positivos)\n",
    "    negativas = cargar_imagenes(carpeta_negativos)\n",
    "    \n",
    "    y_verdadero = []\n",
    "    y_predicho = []\n",
    "    \n",
    " \n",
    "    for img in tqdm(positivas, desc='Evaluando imágenes positivas'):\n",
    "        resultado = modelo(img)\n",
    "        y_verdadero.append(True)\n",
    "        y_predicho.append(resultado)\n",
    "\n",
    " \n",
    "    for img in tqdm(negativas, desc='Evaluando imágenes negativas'):\n",
    "        resultado = modelo(img)\n",
    "        y_verdadero.append(False)\n",
    "        y_predicho.append(resultado)\n",
    "\n",
    "\n",
    "    accuracy = accuracy_score(y_verdadero, y_predicho)\n",
    "    f1 = f1_score(y_verdadero, y_predicho, zero_division=1)\n",
    "    tn, fp, fn, tp = confusion_matrix(y_verdadero, y_predicho).ravel()\n",
    "    error_tipo_i = fp / (fp + tn) if (fp + tn) > 0 else 0  \n",
    "    error_tipo_ii = fn / (fn + tp) if (fn + tp) > 0 else 0  \n",
    "\n",
    "    return {\n",
    "        'Accuracy': accuracy,\n",
    "        'F1 Score': f1,\n",
    "        'Error Tipo I': error_tipo_i * 100,\n",
    "        'Error Tipo II': error_tipo_ii * 100\n",
    "    }\n"
   ]
  },
  {
   "cell_type": "markdown",
   "metadata": {},
   "source": [
    "#### Validación y cálculo de indicadores"
   ]
  },
  {
   "cell_type": "code",
   "execution_count": 7,
   "metadata": {},
   "outputs": [
    {
     "name": "stderr",
     "output_type": "stream",
     "text": [
      "Evaluando pares que deben dar False: 100%|██████████| 1000/1000 [12:58<00:00,  1.28it/s]\n",
      "Evaluando pares que deben dar True: 100%|██████████| 1000/1000 [12:39<00:00,  1.32it/s]"
     ]
    },
    {
     "name": "stdout",
     "output_type": "stream",
     "text": [
      "Accuracy: 0.818\n",
      "F1 Score: 0.7952755905511811\n",
      "Error Tipo I: 7.10%\n",
      "Error Tipo II: 29.30%\n"
     ]
    },
    {
     "name": "stderr",
     "output_type": "stream",
     "text": [
      "\n"
     ]
    }
   ],
   "source": [
    "\n",
    "imagenes_id = cargar_imagenes(paths['imagenes_ID'])\n",
    "imagenes_val = cargar_imagenes(paths['imagenes_VAL'])\n",
    "\n",
    "accuracy, f1, error_tipo_i, error_tipo_ii = evaluar_modelo(imagenes_id, imagenes_val)\n",
    "\n",
    "\n",
    "print(f'Accuracy: {accuracy}')\n",
    "print(f'F1 Score: {f1}')\n",
    "print(f'Error Tipo I: {error_tipo_i * 100:.2f}%')\n",
    "print(f'Error Tipo II: {error_tipo_ii * 100:.2f}%')"
   ]
  },
  {
   "cell_type": "code",
   "execution_count": 8,
   "metadata": {},
   "outputs": [
    {
     "name": "stderr",
     "output_type": "stream",
     "text": [
      "Evaluando imágenes positivas:  34%|███▍      | 21/61 [00:01<00:01, 20.71it/s]"
     ]
    },
    {
     "name": "stdout",
     "output_type": "stream",
     "text": [
      "Error al estimar la edad: '>' not supported between instances of 'NoneType' and 'float'\n"
     ]
    },
    {
     "name": "stderr",
     "output_type": "stream",
     "text": [
      "Evaluando imágenes positivas: 100%|██████████| 61/61 [00:03<00:00, 19.62it/s]\n",
      "Evaluando imágenes negativas: 100%|██████████| 128/128 [00:06<00:00, 20.45it/s]"
     ]
    },
    {
     "name": "stdout",
     "output_type": "stream",
     "text": [
      "{'Accuracy': 0.8624338624338624, 'F1 Score': 0.7868852459016393, 'Error Tipo I': 10.15625, 'Error Tipo II': 21.311475409836063}\n"
     ]
    },
    {
     "name": "stderr",
     "output_type": "stream",
     "text": [
      "\n"
     ]
    }
   ],
   "source": [
    "resultados = evaluar_modelo_simple(paths['imagenes_ID_I_True'], paths['imagenes_ID_I_False'], Modelo_CLASE_I.is_minor)\n",
    "print(resultados)"
   ]
  },
  {
   "cell_type": "code",
   "execution_count": 9,
   "metadata": {},
   "outputs": [
    {
     "name": "stderr",
     "output_type": "stream",
     "text": [
      "Evaluando imágenes positivas: 100%|██████████| 1000/1000 [00:10<00:00, 91.48it/s]\n",
      "Evaluando imágenes negativas: 100%|██████████| 1000/1000 [00:10<00:00, 92.79it/s]"
     ]
    },
    {
     "name": "stdout",
     "output_type": "stream",
     "text": [
      "{'Accuracy': 0.9885, 'F1 Score': 0.9886307464162135, 'Error Tipo I': 2.3, 'Error Tipo II': 0.0}\n"
     ]
    },
    {
     "name": "stderr",
     "output_type": "stream",
     "text": [
      "\n"
     ]
    }
   ],
   "source": [
    "resultados = evaluar_modelo_simple(paths['imagenes_ID_II_True'], paths['imagenes_ID_II_False'], Modelo_CLASE_II_IV.predict)\n",
    "print(resultados)"
   ]
  },
  {
   "cell_type": "code",
   "execution_count": 10,
   "metadata": {},
   "outputs": [
    {
     "name": "stderr",
     "output_type": "stream",
     "text": [
      "Evaluando imágenes positivas: 100%|██████████| 1000/1000 [00:10<00:00, 92.88it/s]\n",
      "Evaluando imágenes negativas: 100%|██████████| 1000/1000 [00:10<00:00, 91.22it/s]\n"
     ]
    },
    {
     "name": "stdout",
     "output_type": "stream",
     "text": [
      "{'Accuracy': 0.979, 'F1 Score': 0.9790419161676647, 'Error Tipo I': 2.3, 'Error Tipo II': 1.9}\n"
     ]
    }
   ],
   "source": [
    "resultados = evaluar_modelo_simple(paths['imagenes_ID_IV_True'], paths['imagenes_ID_IV_False'], Modelo_CLASE_II_IV.predict)\n",
    "print(resultados)"
   ]
  },
  {
   "cell_type": "code",
   "execution_count": 11,
   "metadata": {},
   "outputs": [
    {
     "name": "stderr",
     "output_type": "stream",
     "text": [
      "Evaluando imágenes positivas: 100%|██████████| 1000/1000 [00:10<00:00, 94.23it/s]\n",
      "Evaluando imágenes negativas: 100%|██████████| 1000/1000 [00:10<00:00, 92.91it/s]\n"
     ]
    },
    {
     "name": "stdout",
     "output_type": "stream",
     "text": [
      "{'Accuracy': 0.5495, 'F1 Score': 0.2131004366812227, 'Error Tipo I': 2.3, 'Error Tipo II': 87.8}\n"
     ]
    }
   ],
   "source": [
    "resultados = evaluar_modelo_simple(paths['imagenes_ID_III_A_True'], paths['imagenes_ID_III_A_False'], Modelo_CLASE_II_IV.predict)\n",
    "print(resultados)"
   ]
  },
  {
   "cell_type": "code",
   "execution_count": 12,
   "metadata": {},
   "outputs": [
    {
     "name": "stderr",
     "output_type": "stream",
     "text": [
      "Evaluando imágenes positivas: 100%|██████████| 1000/1000 [00:10<00:00, 94.77it/s]\n",
      "Evaluando imágenes negativas: 100%|██████████| 1000/1000 [00:10<00:00, 92.15it/s]"
     ]
    },
    {
     "name": "stdout",
     "output_type": "stream",
     "text": [
      "{'Accuracy': 0.5185, 'F1 Score': 0.11080332409972299, 'Error Tipo I': 2.3, 'Error Tipo II': 94.0}\n"
     ]
    },
    {
     "name": "stderr",
     "output_type": "stream",
     "text": [
      "\n"
     ]
    }
   ],
   "source": [
    "resultados = evaluar_modelo_simple(paths['imagenes_ID_III_B_True'], paths['imagenes_ID_III_B_False'], Modelo_CLASE_II_IV.predict)\n",
    "print(resultados)"
   ]
  },
  {
   "cell_type": "code",
   "execution_count": 13,
   "metadata": {},
   "outputs": [
    {
     "name": "stderr",
     "output_type": "stream",
     "text": [
      "Evaluando imágenes positivas: 100%|██████████| 1000/1000 [21:30<00:00,  1.29s/it]\n",
      "Evaluando imágenes negativas: 100%|██████████| 1000/1000 [21:27<00:00,  1.29s/it]"
     ]
    },
    {
     "name": "stdout",
     "output_type": "stream",
     "text": [
      "{'Accuracy': 0.9875, 'F1 Score': 0.9874812218327491, 'Error Tipo I': 1.0999999999999999, 'Error Tipo II': 1.4000000000000001}\n"
     ]
    },
    {
     "name": "stderr",
     "output_type": "stream",
     "text": [
      "\n"
     ]
    }
   ],
   "source": [
    "resultados = evaluar_modelo_simple(paths['imagenes_ID_III_A_True'], paths['imagenes_ID_III_A_False'], Modelo_CLASE_III_A.predict)\n",
    "print(resultados)"
   ]
  },
  {
   "cell_type": "code",
   "execution_count": 14,
   "metadata": {},
   "outputs": [
    {
     "name": "stderr",
     "output_type": "stream",
     "text": [
      "Evaluando imágenes positivas: 100%|██████████| 1000/1000 [21:26<00:00,  1.29s/it]\n",
      "Evaluando imágenes negativas: 100%|██████████| 1000/1000 [12:07<00:00,  1.37it/s]"
     ]
    },
    {
     "name": "stdout",
     "output_type": "stream",
     "text": [
      "{'Accuracy': 0.5035, 'F1 Score': 0.03498542274052478, 'Error Tipo I': 1.0999999999999999, 'Error Tipo II': 98.2}\n"
     ]
    },
    {
     "name": "stderr",
     "output_type": "stream",
     "text": [
      "\n"
     ]
    }
   ],
   "source": [
    "resultados = evaluar_modelo_simple(paths['imagenes_ID_III_B_True'], paths['imagenes_ID_III_B_False'], Modelo_CLASE_III_A.predict)\n",
    "print(resultados)"
   ]
  },
  {
   "cell_type": "code",
   "execution_count": 15,
   "metadata": {},
   "outputs": [
    {
     "name": "stderr",
     "output_type": "stream",
     "text": [
      "Evaluando imágenes positivas: 100%|██████████| 1000/1000 [10:55<00:00,  1.53it/s]\n",
      "Evaluando imágenes negativas: 100%|██████████| 1000/1000 [10:55<00:00,  1.53it/s]"
     ]
    },
    {
     "name": "stdout",
     "output_type": "stream",
     "text": [
      "{'Accuracy': 0.9905, 'F1 Score': 0.9905142286570144, 'Error Tipo I': 1.0999999999999999, 'Error Tipo II': 0.8}\n"
     ]
    },
    {
     "name": "stderr",
     "output_type": "stream",
     "text": [
      "\n"
     ]
    }
   ],
   "source": [
    "resultados = evaluar_modelo_simple(paths['imagenes_ID_II_True'], paths['imagenes_ID_II_False'], Modelo_CLASE_III_A.predict)\n",
    "print(resultados)"
   ]
  },
  {
   "cell_type": "code",
   "execution_count": 16,
   "metadata": {},
   "outputs": [
    {
     "name": "stderr",
     "output_type": "stream",
     "text": [
      "Evaluando imágenes positivas:   1%|          | 6/1000 [00:03<10:40,  1.55it/s]"
     ]
    },
    {
     "name": "stdout",
     "output_type": "stream",
     "text": [
      "Error processing image: No faces detected in the image.\n"
     ]
    },
    {
     "name": "stderr",
     "output_type": "stream",
     "text": [
      "Evaluando imágenes positivas:   1%|          | 10/1000 [00:06<10:35,  1.56it/s]"
     ]
    },
    {
     "name": "stdout",
     "output_type": "stream",
     "text": [
      "Error processing image: No faces detected in the image.\n"
     ]
    },
    {
     "name": "stderr",
     "output_type": "stream",
     "text": [
      "Evaluando imágenes positivas:   5%|▍         | 48/1000 [00:31<10:14,  1.55it/s]"
     ]
    },
    {
     "name": "stdout",
     "output_type": "stream",
     "text": [
      "Error processing image: No faces detected in the image.\n"
     ]
    },
    {
     "name": "stderr",
     "output_type": "stream",
     "text": [
      "Evaluando imágenes positivas:   6%|▌         | 56/1000 [00:36<10:09,  1.55it/s]"
     ]
    },
    {
     "name": "stdout",
     "output_type": "stream",
     "text": [
      "Error processing image: No faces detected in the image.\n"
     ]
    },
    {
     "name": "stderr",
     "output_type": "stream",
     "text": [
      "Evaluando imágenes positivas:   8%|▊         | 76/1000 [00:49<09:55,  1.55it/s]"
     ]
    },
    {
     "name": "stdout",
     "output_type": "stream",
     "text": [
      "Error processing image: No faces detected in the image.\n"
     ]
    },
    {
     "name": "stderr",
     "output_type": "stream",
     "text": [
      "Evaluando imágenes positivas:  10%|▉         | 97/1000 [01:03<09:41,  1.55it/s]"
     ]
    },
    {
     "name": "stdout",
     "output_type": "stream",
     "text": [
      "Error processing image: No faces detected in the image.\n"
     ]
    },
    {
     "name": "stderr",
     "output_type": "stream",
     "text": [
      "Evaluando imágenes positivas:  11%|█▏        | 113/1000 [01:14<09:34,  1.54it/s]"
     ]
    },
    {
     "name": "stdout",
     "output_type": "stream",
     "text": [
      "Error processing image: No faces detected in the image.\n"
     ]
    },
    {
     "name": "stderr",
     "output_type": "stream",
     "text": [
      "Evaluando imágenes positivas:  12%|█▏        | 119/1000 [01:17<09:33,  1.54it/s]"
     ]
    },
    {
     "name": "stdout",
     "output_type": "stream",
     "text": [
      "Error processing image: No faces detected in the image.\n"
     ]
    },
    {
     "name": "stderr",
     "output_type": "stream",
     "text": [
      "Evaluando imágenes positivas:  13%|█▎        | 130/1000 [01:25<09:22,  1.55it/s]"
     ]
    },
    {
     "name": "stdout",
     "output_type": "stream",
     "text": [
      "Error processing image: No faces detected in the image.\n"
     ]
    },
    {
     "name": "stderr",
     "output_type": "stream",
     "text": [
      "Evaluando imágenes positivas:  14%|█▍        | 141/1000 [01:32<09:15,  1.55it/s]"
     ]
    },
    {
     "name": "stdout",
     "output_type": "stream",
     "text": [
      "Error processing image: No faces detected in the image.\n"
     ]
    },
    {
     "name": "stderr",
     "output_type": "stream",
     "text": [
      "Evaluando imágenes positivas:  14%|█▍        | 143/1000 [01:33<09:09,  1.56it/s]"
     ]
    },
    {
     "name": "stdout",
     "output_type": "stream",
     "text": [
      "Error processing image: No faces detected in the image.\n"
     ]
    },
    {
     "name": "stderr",
     "output_type": "stream",
     "text": [
      "Evaluando imágenes positivas:  15%|█▌        | 150/1000 [01:38<09:05,  1.56it/s]"
     ]
    },
    {
     "name": "stdout",
     "output_type": "stream",
     "text": [
      "Error processing image: No faces detected in the image.\n"
     ]
    },
    {
     "name": "stderr",
     "output_type": "stream",
     "text": [
      "Evaluando imágenes positivas:  20%|██        | 202/1000 [02:12<08:29,  1.57it/s]"
     ]
    },
    {
     "name": "stdout",
     "output_type": "stream",
     "text": [
      "Error processing image: No faces detected in the image.\n"
     ]
    },
    {
     "name": "stderr",
     "output_type": "stream",
     "text": [
      "Evaluando imágenes positivas:  20%|██        | 204/1000 [02:13<08:26,  1.57it/s]"
     ]
    },
    {
     "name": "stdout",
     "output_type": "stream",
     "text": [
      "Error processing image: No faces detected in the image.\n"
     ]
    },
    {
     "name": "stderr",
     "output_type": "stream",
     "text": [
      "Evaluando imágenes positivas:  21%|██        | 206/1000 [02:14<08:23,  1.58it/s]"
     ]
    },
    {
     "name": "stdout",
     "output_type": "stream",
     "text": [
      "Error processing image: No faces detected in the image.\n"
     ]
    },
    {
     "name": "stderr",
     "output_type": "stream",
     "text": [
      "Evaluando imágenes positivas:  23%|██▎       | 228/1000 [02:29<08:19,  1.55it/s]"
     ]
    },
    {
     "name": "stdout",
     "output_type": "stream",
     "text": [
      "Error processing image: No faces detected in the image.\n"
     ]
    },
    {
     "name": "stderr",
     "output_type": "stream",
     "text": [
      "Evaluando imágenes positivas:  25%|██▍       | 248/1000 [02:42<08:01,  1.56it/s]"
     ]
    },
    {
     "name": "stdout",
     "output_type": "stream",
     "text": [
      "Error processing image: No faces detected in the image.\n"
     ]
    },
    {
     "name": "stderr",
     "output_type": "stream",
     "text": [
      "Evaluando imágenes positivas:  26%|██▌       | 257/1000 [02:48<07:58,  1.55it/s]"
     ]
    },
    {
     "name": "stdout",
     "output_type": "stream",
     "text": [
      "Error processing image: No faces detected in the image.\n"
     ]
    },
    {
     "name": "stderr",
     "output_type": "stream",
     "text": [
      "Evaluando imágenes positivas:  29%|██▉       | 289/1000 [03:09<07:36,  1.56it/s]"
     ]
    },
    {
     "name": "stdout",
     "output_type": "stream",
     "text": [
      "Error processing image: No faces detected in the image.\n"
     ]
    },
    {
     "name": "stderr",
     "output_type": "stream",
     "text": [
      "Evaluando imágenes positivas:  30%|██▉       | 299/1000 [03:15<07:30,  1.56it/s]"
     ]
    },
    {
     "name": "stdout",
     "output_type": "stream",
     "text": [
      "Error processing image: No faces detected in the image.\n"
     ]
    },
    {
     "name": "stderr",
     "output_type": "stream",
     "text": [
      "Evaluando imágenes positivas:  33%|███▎      | 329/1000 [03:35<07:13,  1.55it/s]"
     ]
    },
    {
     "name": "stdout",
     "output_type": "stream",
     "text": [
      "Error processing image: No faces detected in the image.\n"
     ]
    },
    {
     "name": "stderr",
     "output_type": "stream",
     "text": [
      "Evaluando imágenes positivas:  37%|███▋      | 368/1000 [04:00<06:46,  1.55it/s]"
     ]
    },
    {
     "name": "stdout",
     "output_type": "stream",
     "text": [
      "Error processing image: No faces detected in the image.\n"
     ]
    },
    {
     "name": "stderr",
     "output_type": "stream",
     "text": [
      "Evaluando imágenes positivas:  38%|███▊      | 376/1000 [04:05<06:42,  1.55it/s]"
     ]
    },
    {
     "name": "stdout",
     "output_type": "stream",
     "text": [
      "Error processing image: No faces detected in the image.\n"
     ]
    },
    {
     "name": "stderr",
     "output_type": "stream",
     "text": [
      "Evaluando imágenes positivas:  38%|███▊      | 378/1000 [04:07<06:39,  1.56it/s]"
     ]
    },
    {
     "name": "stdout",
     "output_type": "stream",
     "text": [
      "Error processing image: No faces detected in the image.\n"
     ]
    },
    {
     "name": "stderr",
     "output_type": "stream",
     "text": [
      "Evaluando imágenes positivas:  40%|███▉      | 395/1000 [04:18<06:34,  1.53it/s]"
     ]
    },
    {
     "name": "stdout",
     "output_type": "stream",
     "text": [
      "Error processing image: No faces detected in the image.\n"
     ]
    },
    {
     "name": "stderr",
     "output_type": "stream",
     "text": [
      "Evaluando imágenes positivas:  40%|███▉      | 397/1000 [04:19<06:29,  1.55it/s]"
     ]
    },
    {
     "name": "stdout",
     "output_type": "stream",
     "text": [
      "Error processing image: No faces detected in the image.\n"
     ]
    },
    {
     "name": "stderr",
     "output_type": "stream",
     "text": [
      "Evaluando imágenes positivas:  40%|███▉      | 399/1000 [04:20<06:26,  1.56it/s]"
     ]
    },
    {
     "name": "stdout",
     "output_type": "stream",
     "text": [
      "Error processing image: No faces detected in the image.\n"
     ]
    },
    {
     "name": "stderr",
     "output_type": "stream",
     "text": [
      "Evaluando imágenes positivas:  45%|████▍     | 448/1000 [04:53<05:57,  1.55it/s]"
     ]
    },
    {
     "name": "stdout",
     "output_type": "stream",
     "text": [
      "Error processing image: No faces detected in the image.\n"
     ]
    },
    {
     "name": "stderr",
     "output_type": "stream",
     "text": [
      "Evaluando imágenes positivas:  46%|████▌     | 459/1000 [05:00<05:50,  1.54it/s]"
     ]
    },
    {
     "name": "stdout",
     "output_type": "stream",
     "text": [
      "Error processing image: index 257 is out of bounds for axis 0 with size 256\n"
     ]
    },
    {
     "name": "stderr",
     "output_type": "stream",
     "text": [
      "Evaluando imágenes positivas:  47%|████▋     | 473/1000 [05:09<05:41,  1.54it/s]"
     ]
    },
    {
     "name": "stdout",
     "output_type": "stream",
     "text": [
      "Error processing image: No faces detected in the image.\n"
     ]
    },
    {
     "name": "stderr",
     "output_type": "stream",
     "text": [
      "Evaluando imágenes positivas:  49%|████▉     | 493/1000 [05:22<05:28,  1.54it/s]"
     ]
    },
    {
     "name": "stdout",
     "output_type": "stream",
     "text": [
      "Error processing image: No faces detected in the image.\n"
     ]
    },
    {
     "name": "stderr",
     "output_type": "stream",
     "text": [
      "Evaluando imágenes positivas:  52%|█████▏    | 515/1000 [05:36<05:12,  1.55it/s]"
     ]
    },
    {
     "name": "stdout",
     "output_type": "stream",
     "text": [
      "Error processing image: No faces detected in the image.\n"
     ]
    },
    {
     "name": "stderr",
     "output_type": "stream",
     "text": [
      "Evaluando imágenes positivas:  52%|█████▏    | 524/1000 [05:42<05:07,  1.55it/s]"
     ]
    },
    {
     "name": "stdout",
     "output_type": "stream",
     "text": [
      "Error processing image: No faces detected in the image.\n"
     ]
    },
    {
     "name": "stderr",
     "output_type": "stream",
     "text": [
      "Evaluando imágenes positivas:  54%|█████▍    | 544/1000 [05:55<04:53,  1.55it/s]"
     ]
    },
    {
     "name": "stdout",
     "output_type": "stream",
     "text": [
      "Error processing image: No faces detected in the image.\n"
     ]
    },
    {
     "name": "stderr",
     "output_type": "stream",
     "text": [
      "Evaluando imágenes positivas:  56%|█████▋    | 565/1000 [06:09<04:39,  1.55it/s]"
     ]
    },
    {
     "name": "stdout",
     "output_type": "stream",
     "text": [
      "Error processing image: No faces detected in the image.\n"
     ]
    },
    {
     "name": "stderr",
     "output_type": "stream",
     "text": [
      "Evaluando imágenes positivas:  57%|█████▋    | 567/1000 [06:10<04:37,  1.56it/s]"
     ]
    },
    {
     "name": "stdout",
     "output_type": "stream",
     "text": [
      "Error processing image: No faces detected in the image.\n"
     ]
    },
    {
     "name": "stderr",
     "output_type": "stream",
     "text": [
      "Evaluando imágenes positivas:  57%|█████▋    | 573/1000 [06:14<04:35,  1.55it/s]"
     ]
    },
    {
     "name": "stdout",
     "output_type": "stream",
     "text": [
      "Error processing image: No faces detected in the image.\n"
     ]
    },
    {
     "name": "stderr",
     "output_type": "stream",
     "text": [
      "Evaluando imágenes positivas:  57%|█████▊    | 575/1000 [06:16<04:31,  1.56it/s]"
     ]
    },
    {
     "name": "stdout",
     "output_type": "stream",
     "text": [
      "Error processing image: No faces detected in the image.\n"
     ]
    },
    {
     "name": "stderr",
     "output_type": "stream",
     "text": [
      "Evaluando imágenes positivas:  58%|█████▊    | 584/1000 [06:22<04:27,  1.55it/s]"
     ]
    },
    {
     "name": "stdout",
     "output_type": "stream",
     "text": [
      "Error processing image: No faces detected in the image.\n"
     ]
    },
    {
     "name": "stderr",
     "output_type": "stream",
     "text": [
      "Evaluando imágenes positivas:  60%|██████    | 601/1000 [06:33<04:19,  1.54it/s]"
     ]
    },
    {
     "name": "stdout",
     "output_type": "stream",
     "text": [
      "Error processing image: No faces detected in the image.\n"
     ]
    },
    {
     "name": "stderr",
     "output_type": "stream",
     "text": [
      "Evaluando imágenes positivas:  61%|██████    | 607/1000 [06:37<04:14,  1.55it/s]"
     ]
    },
    {
     "name": "stdout",
     "output_type": "stream",
     "text": [
      "Error processing image: No faces detected in the image.\n"
     ]
    },
    {
     "name": "stderr",
     "output_type": "stream",
     "text": [
      "Evaluando imágenes positivas:  61%|██████    | 610/1000 [06:39<04:11,  1.55it/s]"
     ]
    },
    {
     "name": "stdout",
     "output_type": "stream",
     "text": [
      "Error processing image: No faces detected in the image.\n"
     ]
    },
    {
     "name": "stderr",
     "output_type": "stream",
     "text": [
      "Evaluando imágenes positivas:  62%|██████▏   | 616/1000 [06:42<04:08,  1.55it/s]"
     ]
    },
    {
     "name": "stdout",
     "output_type": "stream",
     "text": [
      "Error processing image: No faces detected in the image.\n"
     ]
    },
    {
     "name": "stderr",
     "output_type": "stream",
     "text": [
      "Evaluando imágenes positivas:  62%|██████▏   | 622/1000 [06:46<04:02,  1.56it/s]"
     ]
    },
    {
     "name": "stdout",
     "output_type": "stream",
     "text": [
      "Error processing image: No faces detected in the image.\n"
     ]
    },
    {
     "name": "stderr",
     "output_type": "stream",
     "text": [
      "Evaluando imágenes positivas:  64%|██████▎   | 636/1000 [06:56<03:56,  1.54it/s]"
     ]
    },
    {
     "name": "stdout",
     "output_type": "stream",
     "text": [
      "Error processing image: No faces detected in the image.\n"
     ]
    },
    {
     "name": "stderr",
     "output_type": "stream",
     "text": [
      "Evaluando imágenes positivas:  66%|██████▋   | 665/1000 [07:14<03:35,  1.55it/s]"
     ]
    },
    {
     "name": "stdout",
     "output_type": "stream",
     "text": [
      "Error processing image: No faces detected in the image.\n"
     ]
    },
    {
     "name": "stderr",
     "output_type": "stream",
     "text": [
      "Evaluando imágenes positivas:  68%|██████▊   | 676/1000 [07:22<03:28,  1.56it/s]"
     ]
    },
    {
     "name": "stdout",
     "output_type": "stream",
     "text": [
      "Error processing image: No faces detected in the image.\n"
     ]
    },
    {
     "name": "stderr",
     "output_type": "stream",
     "text": [
      "Evaluando imágenes positivas:  69%|██████▊   | 687/1000 [07:29<03:22,  1.54it/s]"
     ]
    },
    {
     "name": "stdout",
     "output_type": "stream",
     "text": [
      "Error processing image: No faces detected in the image.\n"
     ]
    },
    {
     "name": "stderr",
     "output_type": "stream",
     "text": [
      "Evaluando imágenes positivas:  69%|██████▉   | 691/1000 [07:31<03:20,  1.54it/s]"
     ]
    },
    {
     "name": "stdout",
     "output_type": "stream",
     "text": [
      "Error processing image: No faces detected in the image.\n"
     ]
    },
    {
     "name": "stderr",
     "output_type": "stream",
     "text": [
      "Evaluando imágenes positivas:  71%|███████   | 706/1000 [07:41<03:09,  1.55it/s]"
     ]
    },
    {
     "name": "stdout",
     "output_type": "stream",
     "text": [
      "Error processing image: No faces detected in the image.\n"
     ]
    },
    {
     "name": "stderr",
     "output_type": "stream",
     "text": [
      "Evaluando imágenes positivas:  72%|███████▏  | 715/1000 [07:47<03:03,  1.55it/s]"
     ]
    },
    {
     "name": "stdout",
     "output_type": "stream",
     "text": [
      "Error processing image: No faces detected in the image.\n"
     ]
    },
    {
     "name": "stderr",
     "output_type": "stream",
     "text": [
      "Evaluando imágenes positivas:  73%|███████▎  | 728/1000 [07:56<02:54,  1.55it/s]"
     ]
    },
    {
     "name": "stdout",
     "output_type": "stream",
     "text": [
      "Error processing image: No faces detected in the image.\n"
     ]
    },
    {
     "name": "stderr",
     "output_type": "stream",
     "text": [
      "Evaluando imágenes positivas:  74%|███████▍  | 742/1000 [08:05<02:46,  1.55it/s]"
     ]
    },
    {
     "name": "stdout",
     "output_type": "stream",
     "text": [
      "Error processing image: No faces detected in the image.\n"
     ]
    },
    {
     "name": "stderr",
     "output_type": "stream",
     "text": [
      "Evaluando imágenes positivas:  76%|███████▌  | 762/1000 [08:18<02:33,  1.55it/s]"
     ]
    },
    {
     "name": "stdout",
     "output_type": "stream",
     "text": [
      "Error processing image: No faces detected in the image.\n"
     ]
    },
    {
     "name": "stderr",
     "output_type": "stream",
     "text": [
      "Evaluando imágenes positivas:  77%|███████▋  | 771/1000 [08:24<02:27,  1.55it/s]"
     ]
    },
    {
     "name": "stdout",
     "output_type": "stream",
     "text": [
      "Error processing image: No faces detected in the image.\n"
     ]
    },
    {
     "name": "stderr",
     "output_type": "stream",
     "text": [
      "Evaluando imágenes positivas:  78%|███████▊  | 781/1000 [08:30<02:21,  1.54it/s]"
     ]
    },
    {
     "name": "stdout",
     "output_type": "stream",
     "text": [
      "Error processing image: No faces detected in the image.\n"
     ]
    },
    {
     "name": "stderr",
     "output_type": "stream",
     "text": [
      "Evaluando imágenes positivas:  78%|███████▊  | 782/1000 [08:31<02:19,  1.56it/s]"
     ]
    },
    {
     "name": "stdout",
     "output_type": "stream",
     "text": [
      "Error processing image: No faces detected in the image.\n"
     ]
    },
    {
     "name": "stderr",
     "output_type": "stream",
     "text": [
      "Evaluando imágenes positivas:  79%|███████▉  | 791/1000 [08:37<02:15,  1.55it/s]"
     ]
    },
    {
     "name": "stdout",
     "output_type": "stream",
     "text": [
      "Error processing image: No faces detected in the image.\n"
     ]
    },
    {
     "name": "stderr",
     "output_type": "stream",
     "text": [
      "Evaluando imágenes positivas:  80%|████████  | 803/1000 [08:45<02:07,  1.54it/s]"
     ]
    },
    {
     "name": "stdout",
     "output_type": "stream",
     "text": [
      "Error processing image: No faces detected in the image.\n"
     ]
    },
    {
     "name": "stderr",
     "output_type": "stream",
     "text": [
      "Evaluando imágenes positivas:  81%|████████  | 810/1000 [08:49<02:03,  1.54it/s]"
     ]
    },
    {
     "name": "stdout",
     "output_type": "stream",
     "text": [
      "Error processing image: No faces detected in the image.\n"
     ]
    },
    {
     "name": "stderr",
     "output_type": "stream",
     "text": [
      "Evaluando imágenes positivas:  81%|████████▏ | 813/1000 [08:51<02:00,  1.55it/s]"
     ]
    },
    {
     "name": "stdout",
     "output_type": "stream",
     "text": [
      "Error processing image: No faces detected in the image.\n"
     ]
    },
    {
     "name": "stderr",
     "output_type": "stream",
     "text": [
      "Evaluando imágenes positivas:  87%|████████▋ | 867/1000 [09:27<01:25,  1.55it/s]"
     ]
    },
    {
     "name": "stdout",
     "output_type": "stream",
     "text": [
      "Error processing image: No faces detected in the image.\n"
     ]
    },
    {
     "name": "stderr",
     "output_type": "stream",
     "text": [
      "Evaluando imágenes positivas:  88%|████████▊ | 875/1000 [09:32<01:20,  1.54it/s]"
     ]
    },
    {
     "name": "stdout",
     "output_type": "stream",
     "text": [
      "Error processing image: No faces detected in the image.\n"
     ]
    },
    {
     "name": "stderr",
     "output_type": "stream",
     "text": [
      "Evaluando imágenes positivas:  89%|████████▉ | 889/1000 [09:41<01:12,  1.54it/s]"
     ]
    },
    {
     "name": "stdout",
     "output_type": "stream",
     "text": [
      "Error processing image: No faces detected in the image.\n"
     ]
    },
    {
     "name": "stderr",
     "output_type": "stream",
     "text": [
      "Evaluando imágenes positivas:  92%|█████████▏| 917/1000 [09:59<00:53,  1.55it/s]"
     ]
    },
    {
     "name": "stdout",
     "output_type": "stream",
     "text": [
      "Error processing image: No faces detected in the image.\n"
     ]
    },
    {
     "name": "stderr",
     "output_type": "stream",
     "text": [
      "Evaluando imágenes positivas:  94%|█████████▍| 944/1000 [10:17<00:36,  1.54it/s]"
     ]
    },
    {
     "name": "stdout",
     "output_type": "stream",
     "text": [
      "Error processing image: No faces detected in the image.\n"
     ]
    },
    {
     "name": "stderr",
     "output_type": "stream",
     "text": [
      "Evaluando imágenes positivas:  95%|█████████▍| 948/1000 [10:20<00:33,  1.55it/s]"
     ]
    },
    {
     "name": "stdout",
     "output_type": "stream",
     "text": [
      "Error processing image: No faces detected in the image.\n"
     ]
    },
    {
     "name": "stderr",
     "output_type": "stream",
     "text": [
      "Evaluando imágenes positivas:  95%|█████████▌| 950/1000 [10:21<00:32,  1.56it/s]"
     ]
    },
    {
     "name": "stdout",
     "output_type": "stream",
     "text": [
      "Error processing image: No faces detected in the image.\n"
     ]
    },
    {
     "name": "stderr",
     "output_type": "stream",
     "text": [
      "Evaluando imágenes positivas:  96%|█████████▌| 959/1000 [10:27<00:26,  1.54it/s]"
     ]
    },
    {
     "name": "stdout",
     "output_type": "stream",
     "text": [
      "Error processing image: No faces detected in the image.\n"
     ]
    },
    {
     "name": "stderr",
     "output_type": "stream",
     "text": [
      "Evaluando imágenes positivas:  98%|█████████▊| 975/1000 [10:37<00:16,  1.53it/s]"
     ]
    },
    {
     "name": "stdout",
     "output_type": "stream",
     "text": [
      "Error processing image: No faces detected in the image.\n"
     ]
    },
    {
     "name": "stderr",
     "output_type": "stream",
     "text": [
      "Evaluando imágenes positivas:  99%|█████████▉| 993/1000 [10:49<00:04,  1.54it/s]"
     ]
    },
    {
     "name": "stdout",
     "output_type": "stream",
     "text": [
      "Error processing image: No faces detected in the image.\n"
     ]
    },
    {
     "name": "stderr",
     "output_type": "stream",
     "text": [
      "Evaluando imágenes positivas: 100%|█████████▉| 996/1000 [10:51<00:02,  1.55it/s]"
     ]
    },
    {
     "name": "stdout",
     "output_type": "stream",
     "text": [
      "Error processing image: No faces detected in the image.\n"
     ]
    },
    {
     "name": "stderr",
     "output_type": "stream",
     "text": [
      "Evaluando imágenes positivas: 100%|██████████| 1000/1000 [10:54<00:00,  1.53it/s]\n",
      "Evaluando imágenes negativas: 100%|██████████| 1000/1000 [10:54<00:00,  1.53it/s]"
     ]
    },
    {
     "name": "stdout",
     "output_type": "stream",
     "text": [
      "{'Accuracy': 0.516, 'F1 Score': 0.08159392789373814, 'Error Tipo I': 1.0999999999999999, 'Error Tipo II': 95.7}\n"
     ]
    },
    {
     "name": "stderr",
     "output_type": "stream",
     "text": [
      "\n"
     ]
    }
   ],
   "source": [
    "# En este escenario se prueba el modelo CLASE III con imágenes clase IV, las cuales tienen manchas de colores las que, en ocasiones, evitan que se detecte un rostro\n",
    "\n",
    "resultados = evaluar_modelo_simple(paths['imagenes_ID_IV_True'], paths['imagenes_ID_IV_False'], Modelo_CLASE_III_A.predict)\n",
    "print(resultados)"
   ]
  },
  {
   "cell_type": "code",
   "execution_count": 17,
   "metadata": {},
   "outputs": [
    {
     "name": "stderr",
     "output_type": "stream",
     "text": [
      "Evaluando imágenes positivas: 100%|██████████| 1000/1000 [00:32<00:00, 30.75it/s]\n",
      "Evaluando imágenes negativas: 100%|██████████| 1000/1000 [00:32<00:00, 30.86it/s]"
     ]
    },
    {
     "name": "stdout",
     "output_type": "stream",
     "text": [
      "{'Accuracy': 0.9865, 'F1 Score': 0.9863291139240506, 'Error Tipo I': 0.1, 'Error Tipo II': 2.6}\n"
     ]
    },
    {
     "name": "stderr",
     "output_type": "stream",
     "text": [
      "\n"
     ]
    }
   ],
   "source": [
    "resultados = evaluar_modelo_simple(paths['imagenes_ID_III_B_True'], paths['imagenes_ID_III_B_False'], Modelo_CLASE_III_B.predict)\n",
    "print(resultados)"
   ]
  },
  {
   "cell_type": "code",
   "execution_count": 18,
   "metadata": {},
   "outputs": [
    {
     "name": "stderr",
     "output_type": "stream",
     "text": [
      "Evaluando imágenes positivas: 100%|██████████| 1000/1000 [00:32<00:00, 30.84it/s]\n",
      "Evaluando imágenes negativas: 100%|██████████| 1000/1000 [00:32<00:00, 31.00it/s]"
     ]
    },
    {
     "name": "stdout",
     "output_type": "stream",
     "text": [
      "{'Accuracy': 0.5, 'F1 Score': 0.001996007984031936, 'Error Tipo I': 0.1, 'Error Tipo II': 99.9}\n"
     ]
    },
    {
     "name": "stderr",
     "output_type": "stream",
     "text": [
      "\n"
     ]
    }
   ],
   "source": [
    "resultados = evaluar_modelo_simple(paths['imagenes_ID_III_A_True'], paths['imagenes_ID_III_A_False'], Modelo_CLASE_III_B.predict)\n",
    "print(resultados)"
   ]
  },
  {
   "cell_type": "code",
   "execution_count": 19,
   "metadata": {},
   "outputs": [
    {
     "name": "stderr",
     "output_type": "stream",
     "text": [
      "Evaluando imágenes positivas: 100%|██████████| 1000/1000 [00:32<00:00, 30.88it/s]\n",
      "Evaluando imágenes negativas: 100%|██████████| 1000/1000 [00:33<00:00, 29.73it/s]"
     ]
    },
    {
     "name": "stdout",
     "output_type": "stream",
     "text": [
      "{'Accuracy': 0.5, 'F1 Score': 0.001996007984031936, 'Error Tipo I': 0.1, 'Error Tipo II': 99.9}\n"
     ]
    },
    {
     "name": "stderr",
     "output_type": "stream",
     "text": [
      "\n"
     ]
    }
   ],
   "source": [
    "resultados = evaluar_modelo_simple(paths['imagenes_ID_II_True'], paths['imagenes_ID_II_False'], Modelo_CLASE_III_B.predict)\n",
    "print(resultados)"
   ]
  },
  {
   "cell_type": "code",
   "execution_count": 20,
   "metadata": {},
   "outputs": [
    {
     "name": "stderr",
     "output_type": "stream",
     "text": [
      "Evaluando imágenes positivas: 100%|██████████| 1000/1000 [00:32<00:00, 30.94it/s]\n",
      "Evaluando imágenes negativas: 100%|██████████| 1000/1000 [00:34<00:00, 29.09it/s]"
     ]
    },
    {
     "name": "stdout",
     "output_type": "stream",
     "text": [
      "{'Accuracy': 0.5005, 'F1 Score': 0.003988035892323031, 'Error Tipo I': 0.1, 'Error Tipo II': 99.8}\n"
     ]
    },
    {
     "name": "stderr",
     "output_type": "stream",
     "text": [
      "\n"
     ]
    }
   ],
   "source": [
    "resultados = evaluar_modelo_simple(paths['imagenes_ID_IV_True'], paths['imagenes_ID_IV_False'], Modelo_CLASE_III_B.predict)\n",
    "print(resultados)"
   ]
  }
 ],
 "metadata": {
  "kernelspec": {
   "display_name": "Python 3",
   "language": "python",
   "name": "python3"
  },
  "language_info": {
   "codemirror_mode": {
    "name": "ipython",
    "version": 3
   },
   "file_extension": ".py",
   "mimetype": "text/x-python",
   "name": "python",
   "nbconvert_exporter": "python",
   "pygments_lexer": "ipython3",
   "version": "3.10.11"
  }
 },
 "nbformat": 4,
 "nbformat_minor": 2
}
